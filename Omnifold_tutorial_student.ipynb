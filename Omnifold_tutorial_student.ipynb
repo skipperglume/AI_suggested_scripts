{
  "cells": [
    {
      "cell_type": "markdown",
      "metadata": {
        "id": "view-in-github",
        "colab_type": "text"
      },
      "source": [
        "<a href=\"https://colab.research.google.com/github/skipperglume/AI_suggested_scripts/blob/master/Omnifold_tutorial_student.ipynb\" target=\"_parent\"><img src=\"https://colab.research.google.com/assets/colab-badge.svg\" alt=\"Open In Colab\"/></a>"
      ]
    },
    {
      "cell_type": "markdown",
      "id": "69c25737-161a-4b54-b66c-795ade80c2ff",
      "metadata": {
        "id": "69c25737-161a-4b54-b66c-795ade80c2ff"
      },
      "source": [
        "# Omnifold Tutorial #"
      ]
    },
    {
      "cell_type": "markdown",
      "id": "7ab931c2-d999-4414-b548-ce2c68931e66",
      "metadata": {
        "id": "7ab931c2-d999-4414-b548-ce2c68931e66"
      },
      "source": [
        "##### Import relevant libaries #####"
      ]
    },
    {
      "cell_type": "code",
      "execution_count": 2,
      "id": "b12e099b-77c5-48ab-a5ef-714f506242b5",
      "metadata": {
        "id": "b12e099b-77c5-48ab-a5ef-714f506242b5"
      },
      "outputs": [],
      "source": [
        "import torch\n",
        "import torch.nn as nn\n",
        "import time\n",
        "\n",
        "import numpy as np\n",
        "import matplotlib.pyplot as plt"
      ]
    },
    {
      "cell_type": "code",
      "execution_count": 3,
      "id": "jJ-GeZp-jQsP",
      "metadata": {
        "id": "jJ-GeZp-jQsP",
        "colab": {
          "base_uri": "https://localhost:8080/"
        },
        "outputId": "f40da225-efd6-41fb-9202-81c88e6af492"
      },
      "outputs": [
        {
          "output_type": "stream",
          "name": "stdout",
          "text": [
            "cuda\n"
          ]
        }
      ],
      "source": [
        "if torch.cuda.is_available():\n",
        "    device = torch.device(\"cuda\")\n",
        "else:\n",
        "    device = torch.device(\"cpu\")\n",
        "\n",
        "print(device)"
      ]
    },
    {
      "cell_type": "markdown",
      "id": "ca56713a-9f16-4f68-af37-45196588a3a7",
      "metadata": {
        "id": "ca56713a-9f16-4f68-af37-45196588a3a7"
      },
      "source": [
        "#### Interesting papers\n",
        "OmniFold: A Method to Simultaneously Unfold All Observables <br> *Anders Andreassen, Patrick T. Komiske, Eric M. Metodiev, Benjamin Nachman and Jesse Thaler*<br>https://arxiv.org/pdf/1911.09107\n",
        "\n",
        "We are going to work with a dataset from https://zenodo.org/records/3548091. In particular, we will be looking into three jet-substructure observables of the leading jet, the jet width, the soft-drop mass and the $N_{12}$-subjetiness ratio. The goal is to unfold detector effects and infer $p_\\text{data} (x_\\text{reco}) \\rightarrow p_\\text{unfold} (x_\\text{part})$ of the 3-dimensional phase space."
      ]
    },
    {
      "cell_type": "markdown",
      "id": "8e1477ce-c18f-4c81-bf22-1f603c036ded",
      "metadata": {
        "id": "8e1477ce-c18f-4c81-bf22-1f603c036ded"
      },
      "source": [
        "Load data"
      ]
    },
    {
      "cell_type": "code",
      "execution_count": 4,
      "id": "byC5lcfuhXKL",
      "metadata": {
        "id": "byC5lcfuhXKL",
        "colab": {
          "base_uri": "https://localhost:8080/"
        },
        "outputId": "2918c1cd-8aed-4315-98c6-662a2a97b95a"
      },
      "outputs": [
        {
          "output_type": "stream",
          "name": "stdout",
          "text": [
            "--2025-06-30 12:47:33--  https://www.dropbox.com/scl/fo/88muusw0kecnxv2644ve6/AG8Ov6PSx7UfxPk328qoP-w?rlkey=stexzrk8t0f0almhrkq32ey3l&st=edyovawd&dl=1\n",
            "Resolving www.dropbox.com (www.dropbox.com)... 162.125.85.18, 2620:100:6031:18::a27d:5112\n",
            "Connecting to www.dropbox.com (www.dropbox.com)|162.125.85.18|:443... connected.\n",
            "HTTP request sent, awaiting response... 302 Found\n",
            "Location: https://uc31064a82ce950ef3f84c843808.dl.dropboxusercontent.com/zip_download_get/CP_JhzyhNuKw_Qq-QEl_FuqndB1ALB9lDo1-94f9Cu_vh_Ikx68eLw09evie6J1AfJvmqZDT_STjU5xXWpUrC2IpkS92liJQfEBHVjRTVDXQdA# [following]\n",
            "--2025-06-30 12:47:34--  https://uc31064a82ce950ef3f84c843808.dl.dropboxusercontent.com/zip_download_get/CP_JhzyhNuKw_Qq-QEl_FuqndB1ALB9lDo1-94f9Cu_vh_Ikx68eLw09evie6J1AfJvmqZDT_STjU5xXWpUrC2IpkS92liJQfEBHVjRTVDXQdA\n",
            "Resolving uc31064a82ce950ef3f84c843808.dl.dropboxusercontent.com (uc31064a82ce950ef3f84c843808.dl.dropboxusercontent.com)... 162.125.81.15, 2620:100:6031:15::a27d:510f\n",
            "Connecting to uc31064a82ce950ef3f84c843808.dl.dropboxusercontent.com (uc31064a82ce950ef3f84c843808.dl.dropboxusercontent.com)|162.125.81.15|:443... connected.\n",
            "HTTP request sent, awaiting response... 200 OK\n",
            "Length: 96001166 (92M) [application/zip]\n",
            "Saving to: ‘AG8Ov6PSx7UfxPk328qoP-w?rlkey=stexzrk8t0f0almhrkq32ey3l&st=edyovawd&dl=1.1’\n",
            "\n",
            "AG8Ov6PSx7UfxPk328q 100%[===================>]  91.55M  12.9MB/s    in 7.6s    \n",
            "\n",
            "2025-06-30 12:47:42 (12.1 MB/s) - ‘AG8Ov6PSx7UfxPk328qoP-w?rlkey=stexzrk8t0f0almhrkq32ey3l&st=edyovawd&dl=1.1’ saved [96001166/96001166]\n",
            "\n",
            "Archive:  AG8Ov6PSx7UfxPk328qoP-w?rlkey=stexzrk8t0f0almhrkq32ey3l&st=edyovawd&dl=1\n",
            "warning:  stripped absolute path spec from /\n",
            "mapname:  conversion of  failed\n",
            "replace reco_MC.npy? [y]es, [n]o, [A]ll, [N]one, [r]ename: y\n",
            " extracting: reco_MC.npy             \n",
            "replace part_MC.npy? [y]es, [n]o, [A]ll, [N]one, [r]ename: y\n",
            " extracting: part_MC.npy             \n",
            "replace reco_data.npy? [y]es, [n]o, [A]ll, [N]one, [r]ename: y\n",
            " extracting: reco_data.npy           \n",
            "replace part_data.npy? [y]es, [n]o, [A]ll, [N]one, [r]ename: y\n",
            " extracting: part_data.npy           \n",
            "\n",
            "1 archive had fatal errors.\n"
          ]
        }
      ],
      "source": [
        "!wget \"https://www.dropbox.com/scl/fo/88muusw0kecnxv2644ve6/AG8Ov6PSx7UfxPk328qoP-w?rlkey=stexzrk8t0f0almhrkq32ey3l&st=edyovawd&dl=1\"\n",
        "!unzip \"AG8Ov6PSx7UfxPk328qoP-w?rlkey=stexzrk8t0f0almhrkq32ey3l&st=edyovawd&dl=1\""
      ]
    },
    {
      "cell_type": "code",
      "execution_count": 7,
      "id": "a38e415a-eee2-4f77-b3dd-12f42cf8f2cc",
      "metadata": {
        "id": "a38e415a-eee2-4f77-b3dd-12f42cf8f2cc"
      },
      "outputs": [],
      "source": [
        "reco_sim = torch.tensor(np.load(\"reco_MC.npy\"), dtype=torch.float)\n",
        "reco_data = torch.tensor(np.load(\"reco_data.npy\"), dtype=torch.float)\n",
        "part_sim = torch.tensor(np.load(\"part_MC.npy\"),  dtype=torch.float)\n",
        "part_data = torch.tensor(np.load(\"part_data.npy\"),  dtype=torch.float)"
      ]
    },
    {
      "cell_type": "markdown",
      "id": "20f83790-3031-468f-b800-6f87eab10944",
      "metadata": {
        "id": "20f83790-3031-468f-b800-6f87eab10944"
      },
      "source": [
        "Build training and test datasets if needed"
      ]
    },
    {
      "cell_type": "code",
      "execution_count": 8,
      "id": "63091a82-a40c-4a2d-a79a-5834f852a42e",
      "metadata": {
        "id": "63091a82-a40c-4a2d-a79a-5834f852a42e"
      },
      "outputs": [],
      "source": [
        "reco_sim_train, reco_sim_test = reco_sim[:750000], reco_sim[750000:]\n",
        "reco_data_train, reco_data_test = reco_data[:750000], reco_data[750000:]\n",
        "part_sim_train, part_sim_test = part_sim[:750000], part_sim[750000:]"
      ]
    },
    {
      "cell_type": "markdown",
      "id": "03636cc3-0d72-46c1-b718-8ee149c59b6f",
      "metadata": {
        "id": "03636cc3-0d72-46c1-b718-8ee149c59b6f"
      },
      "source": [
        "We will define some preprocessing functions to apply to the data."
      ]
    },
    {
      "cell_type": "code",
      "execution_count": 9,
      "id": "3e7f8c67-10f7-4c02-a955-4b0d9a281069",
      "metadata": {
        "id": "3e7f8c67-10f7-4c02-a955-4b0d9a281069"
      },
      "outputs": [],
      "source": [
        "mean = torch.tensor([ 0.1411, -6.9493,  0.6731])\n",
        "std = torch.tensor([0.0960, 2.2009, 0.2031])"
      ]
    },
    {
      "cell_type": "code",
      "execution_count": 10,
      "id": "dc83f69f-f169-47e4-bd32-a3895af15b89",
      "metadata": {
        "id": "dc83f69f-f169-47e4-bd32-a3895af15b89"
      },
      "outputs": [],
      "source": [
        "def preprocess(data, mean, std, device=\"cpu\", reverse=False):\n",
        "    \"\"\"\n",
        "    Standardizes or un-standardizes the data.\n",
        "\n",
        "    Args:\n",
        "        data (Tensor): The input data tensor.\n",
        "        mean (Tensor or float): The mean used for standardization.\n",
        "        std (Tensor or float): The standard deviation used for standardization.\n",
        "        device (str or torch.device): The device to move the tensor to ('cpu' or 'cuda').\n",
        "        reverse (bool): If True, reverses the standardization (un-normalize).\n",
        "\n",
        "    Returns:\n",
        "        Tensor: Processed data tensor.\n",
        "    \"\"\"\n",
        "    if not reverse:\n",
        "        data = (data - mean) / std\n",
        "        return data.to(device)\n",
        "    else:\n",
        "        return (data.cpu() * std) + mean\n"
      ]
    },
    {
      "cell_type": "code",
      "execution_count": 11,
      "id": "75cd511b-70c0-4088-bf35-0bea90157ca8",
      "metadata": {
        "id": "75cd511b-70c0-4088-bf35-0bea90157ca8"
      },
      "outputs": [],
      "source": [
        "# Clone and preprocess the data to standardize input features with reco-level MC mean and standard deviation.\n",
        "\n",
        "reco_sim_proc_train = preprocess(reco_sim_train.clone(), mean, std, device=device)\n",
        "reco_sim_proc_test = preprocess(reco_sim_test.clone(), mean, std, device=device)\n",
        "\n",
        "reco_data_proc_train = preprocess(reco_data_train.clone(), mean, std, device=device)\n",
        "\n",
        "part_sim_proc_train = preprocess(part_sim_train.clone(), mean, std, device=device)\n",
        "part_sim_proc_test = preprocess(part_sim_test.clone(), mean, std, device=device)"
      ]
    },
    {
      "cell_type": "markdown",
      "id": "53e0b183-2f9e-4924-b6f0-5aa2d72d9115",
      "metadata": {
        "id": "53e0b183-2f9e-4924-b6f0-5aa2d72d9115"
      },
      "source": [
        "### Exercise 1 – Building a Classifier in PyTorch\n",
        "\n",
        "In this first exercise, we will implement a flexible binary classifier using PyTorch, which will then serve as a core component in the OmniFold algorithm.\n",
        "\n",
        "The aim is to build a reusable classifier class. This modular design allows us to train and evaluate the classifier multiple times throughout the unfolding process.\n",
        "\n",
        "#### Structure of the Classifier\n",
        "\n",
        "Your classifier should be implemented as a Python class with the following components:\n",
        "\n",
        "1. **Initialization (`__init__`)**  \n",
        "   Here, we define:\n",
        "   - `dims_in`: the number of input features,\n",
        "   - `params`: a dictionary of hyperparameters (such as learning rate, network size, and number of training epochs).\n",
        "\n",
        "2. **Building Network (`init_network`)**  \n",
        "   Define a fully connected feedforward neural network with:\n",
        "   - One input layer,\n",
        "   - A configurable number of hidden layers using ReLU activations,\n",
        "   - A final output layer with a single unit producing logits.\n",
        "\n",
        "3. **Loss Function (`batch_loss`)**  \n",
        "   Implement a method that computes the weighted binary cross-entropy loss for a given batch of:\n",
        "   - input features `x`,\n",
        "   - labels `y`,\n",
        "   - sample weights `w`.\n",
        "\n",
        "4. **Training Loop (`train_classifier`)**  \n",
        "   Create a training loop that:\n",
        "   - Accepts data (`data_true`) and sim(`data_fake`) samples,\n",
        "   - Optionally takes sample weights for each,\n",
        "   - Trains the classifier using the Adam optimizer and a learning rate scheduler.\n",
        "\n",
        "5. **Evaluation (`evaluate`)**  \n",
        "   Evaluate the classifier on new data and return either:\n",
        "   - `exp(logit)`, which gives the likelihood ratio (used for reweighting),\n",
        "   - or `sigmoid(logit)`, which gives the predicted signal probability.\n",
        "\n",
        "\n",
        "Go through the Classifier class and fill out the blanks."
      ]
    },
    {
      "cell_type": "code",
      "execution_count": 37,
      "id": "a2194aa8-6efa-4316-82eb-e6601df818dc",
      "metadata": {
        "id": "a2194aa8-6efa-4316-82eb-e6601df818dc"
      },
      "outputs": [],
      "source": [
        "class Classifier(nn.Module):\n",
        "    def __init__(self, dims_in, params):\n",
        "        \"\"\"\n",
        "        Initializes the classifier model.\n",
        "\n",
        "        Args:\n",
        "            dims_in (int): Dimensionality of input features.\n",
        "            params (dict): Dictionary of model and training hyperparameters.\n",
        "        \"\"\"\n",
        "        super().__init__()\n",
        "        self.dims_in = dims_in\n",
        "        self.params = params\n",
        "        self.init_network()\n",
        "\n",
        "    def init_network(self):\n",
        "        \"\"\"\n",
        "        Initializes a fully connected feedforward neural network.\n",
        "        \"\"\"\n",
        "        # TODO:\n",
        "        #    - Build a network to predict the class.\n",
        "        #    - Use 3 hidden layers of size `self.params[\"hidden_layers\"]`\n",
        "        #    - The last layer need to map back to the class dimension\n",
        "\n",
        "        self.net = nn.Sequential(\n",
        "            nn.Linear(self.dims_in, self.params[\"hidden_layers\"]),\n",
        "            nn.ReLU(),\n",
        "            nn.Linear(self.params[\"hidden_layers\"], self.params[\"hidden_layers\"]),\n",
        "            nn.ReLU(),\n",
        "            nn.Linear(self.params[\"hidden_layers\"], 1)\n",
        "        )\n",
        "\n",
        "    def batch_loss(self, x, y, w):\n",
        "        \"\"\"\n",
        "        Computes the weighted BCE loss for a batch.\n",
        "\n",
        "        Args:\n",
        "            x (Tensor): Input features.\n",
        "            y (Tensor): Labels (0 or 1).\n",
        "            w (Tensor): Sample weights.\n",
        "\n",
        "        Returns:\n",
        "            Tensor: Scalar loss value.\n",
        "        \"\"\"\n",
        "        # TODO: Implement the batch_loss function\n",
        "        # Hint: You can use either torch.nn.BCEWithLogitsLoss or\n",
        "        # torch.nn.BCE. What's the difference?\n",
        "        # Don't forget to include weights\n",
        "\n",
        "        # print(f'x: {x.shape}')\n",
        "        # print(f'y: {y.shape}')\n",
        "\n",
        "        # Loss with LogitsLoss\n",
        "        correctShape = (x.shape[0],)\n",
        "\n",
        "        loss = nn.BCEWithLogitsLoss(weight=w)(self.net(x).reshape(correctShape), y)\n",
        "\n",
        "        # Loss with BCE\n",
        "        # loss = nn.BCELoss(weight=w)(torch.sigmoid(self.net(x)), y)\n",
        "\n",
        "        return loss\n",
        "\n",
        "    def train_classifier(self,\n",
        "                         data_true,\n",
        "                         data_fake,\n",
        "                         weights_true=None,\n",
        "                         weights_fake=None):\n",
        "        \"\"\"\n",
        "        Trains the classifier on provided true (y=1) and fake (y=0) data.\n",
        "\n",
        "        Args:\n",
        "            data_true (Tensor): Data with label 1.\n",
        "            data_fake (Tensor): Data with label 0.\n",
        "            weights_true (Tensor): Optional weights for true data.\n",
        "            weights_fake (Tensor): Optional weights for fake data.\n",
        "        \"\"\"\n",
        "\n",
        "        device = data_true.device\n",
        "        dtype = data_true.dtype\n",
        "\n",
        "        if weights_true is None:\n",
        "            weights_true = torch.ones((data_true.shape[0]), device=device, dtype=dtype)\n",
        "\n",
        "        if weights_fake is None:\n",
        "            weights_fake = torch.ones((data_fake.shape[0]), device=device, dtype=dtype)\n",
        "\n",
        "        loader_true = torch.utils.data.DataLoader(\n",
        "            torch.utils.data.TensorDataset(data_true, weights_true),\n",
        "            batch_size=self.params[\"batch_size\"], shuffle=True,\n",
        "            )\n",
        "\n",
        "        loader_fake = torch.utils.data.DataLoader(\n",
        "            torch.utils.data.TensorDataset(data_fake, weights_fake),\n",
        "            batch_size=self.params[\"batch_size\"], shuffle=True,\n",
        "            )\n",
        "\n",
        "        optimizer = torch.optim.Adam(self.net.parameters(), lr=self.params[\"lr\"])\n",
        "        scheduler = torch.optim.lr_scheduler.OneCycleLR(\n",
        "            optimizer=optimizer,\n",
        "            max_lr=self.params.get(\"max_lr\", 3 * self.params[\"lr\"]),\n",
        "            epochs=self.params[\"n_epochs\"],\n",
        "            steps_per_epoch=min(len(loader_true), len(loader_fake)))\n",
        "\n",
        "        print(f\"Training classifier for {self.params['n_epochs']} epochs with lr {self.params['lr']}\")\n",
        "        t0 = time.time()\n",
        "\n",
        "        for epoch in range(self.params[\"n_epochs\"]):\n",
        "            losses = []\n",
        "            for (x_true, w_true), (x_fake, w_fake) in zip(loader_true, loader_fake):\n",
        "                label_true = torch.ones((x_true.shape[0]), device=device, dtype=dtype)\n",
        "                label_fake = torch.zeros((x_fake.shape[0]), device=device, dtype=dtype)\n",
        "                # TODO: Write training loop\n",
        "\n",
        "                # Reset optimizer\n",
        "                optimizer.zero_grad()\n",
        "\n",
        "                # Calculate batch loss once for true and fake\n",
        "                loss_true = self.batch_loss(x_true, label_true, w_true)\n",
        "                loss_fake = self.batch_loss(x_fake, label_fake, w_fake)\n",
        "                loss = loss_true + loss_fake\n",
        "\n",
        "                # Backpropagate\n",
        "                loss.backward()\n",
        "\n",
        "                # Updata optimizer and scheduler\n",
        "                optimizer.step()\n",
        "                scheduler.step()\n",
        "\n",
        "                losses.append(loss.item())\n",
        "\n",
        "            if epoch % max(1, self.params[\"n_epochs\"] // 5) == 0:\n",
        "                print(f\"    Epoch {epoch}: Avg loss = {torch.tensor(losses).mean():.4f}, Time = {round(time.time() - t0, 1)}s\")\n",
        "\n",
        "        print(f\"Training finished in {round(time.time() - t0, 1)} seconds.\")\n",
        "\n",
        "    def evaluate(self, data, return_weights=True):\n",
        "        \"\"\"\n",
        "        Evaluates the classifier.\n",
        "\n",
        "        Args:\n",
        "            data (Tensor): Input data.\n",
        "            return_weights (bool): If True, returns likelihood ratios (exp(logits)).\n",
        "\n",
        "        Returns:\n",
        "            Tensor: Predicted weights or probabilities.\n",
        "        \"\"\"\n",
        "        # TODO: Evaluate classifier and return weights or the classifier output\n",
        "\n",
        "        data = data.to(self.net[0].weight.device)\n",
        "        predictions = []\n",
        "        with torch.no_grad():\n",
        "          for batch in torch.split(data, self.params['batch_size_sample']):\n",
        "            pred = self.net(batch).squeeze().detach()\n",
        "            predictions.append(pred)\n",
        "\n",
        "        predictions = torch.cat(predictions)\n",
        "        return predictions.exp().clip(0,30) if return_weights else torch.sigmoid(predictions)\n",
        "\n",
        "        # logits = self.net(data)\n",
        "        # if return_weights:\n",
        "        #     # Return weights\n",
        "        #     weight = torch.exp(logits)\n",
        "        #     return weight\n",
        "        # else:\n",
        "        #     # Return classifier output\n",
        "        #     return torch.sigmoid(logits)\n"
      ]
    },
    {
      "cell_type": "markdown",
      "id": "81c5b551-f8cb-4401-ba15-f8c6ec956840",
      "metadata": {
        "id": "81c5b551-f8cb-4401-ba15-f8c6ec956840"
      },
      "source": [
        "As we are going to need a lot of plots showing the reweighted distributions we will define a plot function"
      ]
    },
    {
      "cell_type": "code",
      "execution_count": 38,
      "id": "e29ec1dc-7a3b-40fa-b83c-f327907a326c",
      "metadata": {
        "id": "e29ec1dc-7a3b-40fa-b83c-f327907a326c"
      },
      "outputs": [],
      "source": [
        "FONTSIZE = 14\n",
        "\n",
        "def plot_reweighted_distribution(true,\n",
        "                                 fake,\n",
        "                                 weights,\n",
        "                                 bins=50,\n",
        "                                name=None):\n",
        "    \"\"\"\n",
        "    Plots the distribution of a single feature for:\n",
        "      - true data,\n",
        "      - fake data (raw),\n",
        "      - fake data reweighted by weights.\n",
        "\n",
        "    Args:\n",
        "        true (Tensor): True data of shape [N, ].\n",
        "        fake (Tensor): Fake data of shape [N, ].\n",
        "        weights (Tensor): Weights for fake data, shape [N].\n",
        "        bins (int): Number of bins in the histogram.\n",
        "    \"\"\"\n",
        "    # Plot\n",
        "    plt.figure(figsize=(6, 4))\n",
        "    plt.hist(fake, bins=bins, label=\"Sim \", density=True, color=\"royalblue\", histtype=\"step\")\n",
        "    plt.hist(fake, bins=bins, weights=weights, label=\"Sim (reweighted)\", density=True, color=\"darkred\", histtype=\"step\")\n",
        "    plt.hist(true, bins=bins, label=\"Data\", density=True, color=\"black\", histtype=\"step\")\n",
        "\n",
        "    plt.xlabel(r\"${%s}$\" % name,\n",
        "               fontsize=FONTSIZE)\n",
        "\n",
        "    plt.ylabel(\"Density\",\n",
        "              fontsize=FONTSIZE)\n",
        "\n",
        "    plt.legend(frameon=False, fontsize=FONTSIZE)\n",
        "    plt.tight_layout()\n",
        "    plt.show()"
      ]
    },
    {
      "cell_type": "markdown",
      "id": "742c6303-83e4-4e9e-8d80-c0c4b2704a15",
      "metadata": {
        "id": "742c6303-83e4-4e9e-8d80-c0c4b2704a15"
      },
      "source": [
        "### Exercise 2 - Single Iteration Omnifold\n",
        "\n",
        "To get a better understanding of omnifold we will start by doing the first iteration explicitly. For one iteration implement the following steps:"
      ]
    },
    {
      "cell_type": "markdown",
      "id": "d3b98a86-58ec-4363-8fc9-87b89d59f5cc",
      "metadata": {
        "id": "d3b98a86-58ec-4363-8fc9-87b89d59f5cc"
      },
      "source": [
        "1. Train a classifier between $p_{\\text{sim}}(x_{\\text{reco}})$ and $p_{\\text{data}}(x_{\\text{reco}})$"
      ]
    },
    {
      "cell_type": "code",
      "execution_count": 43,
      "id": "6db1909b-be28-46eb-863b-e7856a92f84b",
      "metadata": {
        "id": "6db1909b-be28-46eb-863b-e7856a92f84b"
      },
      "outputs": [],
      "source": [
        "# Define classifier parameteres\n",
        "\n",
        "classifier_params = {\"hidden_layers\": 64,\n",
        "                     \"lr\": 1.e-3,\n",
        "                     \"n_epochs\" : 10,\n",
        "                     \"batch_size\" : 512,\n",
        "                     \"batch_size_sample\": 2000}\n",
        "\n",
        "# Useful plotting params\n",
        "\n",
        "n_features = reco_sim_test.shape[1]\n",
        "\n",
        "binning = [torch.linspace(0, 0.6, 40 + 1),\n",
        "           torch.linspace(-13, -2, 40 + 1),\n",
        "           torch.linspace(0.1, 1.1, 40 + 1)]\n",
        "\n",
        "names = [r\"\\text{Jet width } w\",\n",
        "         r\"\\text{Groomed mass }\\log \\rho\",\n",
        "         r\"\\text{N-subjettiness ratio } \\tau_{21}\"]\n"
      ]
    },
    {
      "cell_type": "code",
      "execution_count": 44,
      "id": "f7a1ca8b-83cc-4baf-8b8a-3b9036b9a862",
      "metadata": {
        "id": "f7a1ca8b-83cc-4baf-8b8a-3b9036b9a862",
        "colab": {
          "base_uri": "https://localhost:8080/"
        },
        "outputId": "29aad15c-07d8-432e-a124-9fbcd943360c"
      },
      "outputs": [
        {
          "output_type": "stream",
          "name": "stdout",
          "text": [
            "Training classifier for 10 epochs with lr 0.001\n",
            "    Epoch 0: Avg loss = 1.3759, Time = 16.6s\n",
            "    Epoch 2: Avg loss = 1.4092, Time = 52.0s\n",
            "    Epoch 4: Avg loss = 1.4252, Time = 86.8s\n",
            "    Epoch 6: Avg loss = 1.4195, Time = 122.1s\n",
            "    Epoch 8: Avg loss = 1.3957, Time = 157.3s\n",
            "Training finished in 174.1 seconds.\n"
          ]
        }
      ],
      "source": [
        "# Build the classifier\n",
        "reco_classifier = Classifier(dims_in=n_features, params=classifier_params).to(device)\n",
        "\n",
        "# Train the classifier using reco-level data (true) and reco-level simulation (fake)\n",
        "reco_classifier.train_classifier(reco_data_proc_train, reco_sim_proc_train)"
      ]
    },
    {
      "cell_type": "markdown",
      "id": "24fabadd-084d-4682-8af8-f94de39612db",
      "metadata": {
        "id": "24fabadd-084d-4682-8af8-f94de39612db"
      },
      "source": [
        "2. Evaluate $w_\\theta(x_\\text{reco})$ with $x_\\text{reco} \\sim p_{\\text{sim}}(x_{\\text{reco}})$"
      ]
    },
    {
      "cell_type": "code",
      "execution_count": 47,
      "id": "a1458186-ba26-4b5c-8a10-e60e13f3a955",
      "metadata": {
        "id": "a1458186-ba26-4b5c-8a10-e60e13f3a955",
        "colab": {
          "base_uri": "https://localhost:8080/"
        },
        "outputId": "d10af64a-0ef0-4710-c9a0-426bdb5e9e42"
      },
      "outputs": [
        {
          "output_type": "stream",
          "name": "stdout",
          "text": [
            "tensor([1.2035, 1.2035, 1.2035,  ..., 1.2035, 1.2035, 1.2035])\n"
          ]
        }
      ],
      "source": [
        "w_reco_train = reco_classifier.evaluate(reco_sim_proc_train, return_weights=True)\n",
        "w_reco_test = reco_classifier.evaluate(reco_sim_proc_test, return_weights=True)\n",
        "print(w_reco_test)"
      ]
    },
    {
      "cell_type": "markdown",
      "id": "680ec49a-a3c0-47f9-97bd-5cfd76a7b669",
      "metadata": {
        "id": "680ec49a-a3c0-47f9-97bd-5cfd76a7b669"
      },
      "source": [
        "3. Plot $p_\\text{sim}(x_\\text{reco})$, $p_{\\text{data}}(x_{\\text{reco}})$ and $w_\\theta(x_\\text{reco})p_\\text{sim}(x_\\text{reco})$"
      ]
    },
    {
      "cell_type": "code",
      "execution_count": 46,
      "id": "fb49051e-f2b3-4874-9b99-68934ba2205d",
      "metadata": {
        "id": "fb49051e-f2b3-4874-9b99-68934ba2205d",
        "colab": {
          "base_uri": "https://localhost:8080/",
          "height": 1000
        },
        "outputId": "d9387b99-b1e1-466f-ffc0-2eca41a03f87"
      },
      "outputs": [
        {
          "output_type": "display_data",
          "data": {
            "text/plain": [
              "<Figure size 600x400 with 1 Axes>"
            ],
            "image/png": "[encoded data removed]"
          },
          "metadata": {}
        },
        {
          "output_type": "display_data",
          "data": {
            "text/plain": [
              "<Figure size 600x400 with 1 Axes>"
            ],
            "image/png": "[encoded data removed]"
          },
          "metadata": {}
        },
        {
          "output_type": "display_data",
          "data": {
            "text/plain": [
              "<Figure size 600x400 with 1 Axes>"
            ],
            "image/png": "[encoded data removed]"
          },
          "metadata": {}
        }
      ],
      "source": [
        "for i in range(n_features):\n",
        "  plot_reweighted_distribution(\n",
        "        true=reco_data_test[:, i],\n",
        "        fake=reco_sim_test[:, i],\n",
        "        weights=w_reco_test.cpu(),\n",
        "        bins= binning[i].cpu(),\n",
        "        name = names[i]\n",
        "    )"
      ]
    },
    {
      "cell_type": "markdown",
      "id": "0f19bd9f-11b1-4fb1-9446-d559fd1afb2b",
      "metadata": {
        "id": "0f19bd9f-11b1-4fb1-9446-d559fd1afb2b"
      },
      "source": [
        "4. Pull the reco-level event to particle-level $w_\\theta(x_\\text{reco}) \\rightarrow w_\\theta(x_\\text{part})$ using the pairing in simulation\n",
        "   \n",
        "5. Plot $p_\\text{sim}(x_\\text{part})$, $p_{\\text{data}}(x_{\\text{part}})$ and $w_\\theta(x_\\text{part})p_\\text{sim}(x_\\text{part})$"
      ]
    },
    {
      "cell_type": "code",
      "execution_count": null,
      "id": "a9b564d6-4fad-4e49-850d-93872cd7d263",
      "metadata": {
        "id": "a9b564d6-4fad-4e49-850d-93872cd7d263"
      },
      "outputs": [],
      "source": [
        "# Plot"
      ]
    },
    {
      "cell_type": "markdown",
      "id": "0f0a3588-8959-40b2-80a7-831a718aee93",
      "metadata": {
        "id": "0f0a3588-8959-40b2-80a7-831a718aee93"
      },
      "source": [
        "##### What do you observe?"
      ]
    },
    {
      "cell_type": "markdown",
      "id": "67c0ca00-e211-4332-832f-334215fdf2eb",
      "metadata": {
        "id": "67c0ca00-e211-4332-832f-334215fdf2eb"
      },
      "source": []
    },
    {
      "cell_type": "markdown",
      "id": "4f47c6a3-dcb6-48a6-9e0c-7ee5a0bb83b0",
      "metadata": {
        "id": "4f47c6a3-dcb6-48a6-9e0c-7ee5a0bb83b0"
      },
      "source": [
        "6. Train a classifier between $p_{\\text{sim}}(x_{\\text{part}})$ and $w_\\theta (x_\\text{part}) p_{\\text{sim}}(x_{\\text{part}})$"
      ]
    },
    {
      "cell_type": "code",
      "execution_count": null,
      "id": "b3f3f029-476d-47b6-964e-65afe01d290d",
      "metadata": {
        "id": "b3f3f029-476d-47b6-964e-65afe01d290d"
      },
      "outputs": [],
      "source": [
        "# Build the classifier\n",
        "part_classifier =\n",
        "\n",
        "# Train the classifier using reoc-level data (true) and reco-level simulation (fake) data\n"
      ]
    },
    {
      "cell_type": "markdown",
      "id": "08de0446-7075-4fee-bb33-b36c471c6667",
      "metadata": {
        "id": "08de0446-7075-4fee-bb33-b36c471c6667"
      },
      "source": [
        "7. Evaluate $\\nu_\\phi (x_\\text{part})$ with $x_\\text{part} \\sim p_\\text{sim}(x_\\text{part})$"
      ]
    },
    {
      "cell_type": "code",
      "execution_count": null,
      "id": "759a7753-b98e-4b6d-a4c8-4aaca07a046c",
      "metadata": {
        "id": "759a7753-b98e-4b6d-a4c8-4aaca07a046c"
      },
      "outputs": [],
      "source": [
        "nu_part_train =\n",
        "nu_part_test ="
      ]
    },
    {
      "cell_type": "markdown",
      "id": "a53bc62e-9f28-402c-9625-313b761263eb",
      "metadata": {
        "id": "a53bc62e-9f28-402c-9625-313b761263eb"
      },
      "source": [
        "8. Plot $p_\\text{sim}(x_\\text{part})$, $p_{\\text{data}}(x_{\\text{part}})$ and $\\nu_\\phi(x_\\text{part})p_\\text{sim}(x_\\text{part})$"
      ]
    },
    {
      "cell_type": "code",
      "execution_count": null,
      "id": "e5a0a66a-dcb7-4512-8fa3-3d7df46cbc92",
      "metadata": {
        "id": "e5a0a66a-dcb7-4512-8fa3-3d7df46cbc92"
      },
      "outputs": [],
      "source": [
        "# Plot"
      ]
    },
    {
      "cell_type": "markdown",
      "id": "e8a83aeb-2dfa-43af-8e0f-6540985d0513",
      "metadata": {
        "id": "e8a83aeb-2dfa-43af-8e0f-6540985d0513"
      },
      "source": [
        "9. Push the particle-level event to reco-level $\\nu_\\phi(x_\\text{part}) \\rightarrow \\nu_\\phi(x_\\text{reco})$ using the pairing in simulation\n",
        "\n",
        "10. Plot $p_\\text{sim}(x_\\text{reco})$, $p_{\\text{data}}(x_{\\text{reco}})$ and $\\nu_\\phi(x_\\text{reco})p_\\text{sim}(x_\\text{reco})$"
      ]
    },
    {
      "cell_type": "code",
      "execution_count": null,
      "id": "10b450be-ff51-4337-b61c-45437232ce6b",
      "metadata": {
        "id": "10b450be-ff51-4337-b61c-45437232ce6b"
      },
      "outputs": [],
      "source": [
        "# Plot"
      ]
    },
    {
      "cell_type": "markdown",
      "id": "3f1703fa-2844-4b75-99db-38ccfd90ae62",
      "metadata": {
        "id": "3f1703fa-2844-4b75-99db-38ccfd90ae62"
      },
      "source": [
        "##### What do you observe?"
      ]
    },
    {
      "cell_type": "markdown",
      "id": "2470cdcc-5181-43e1-b132-c01911c59c4b",
      "metadata": {
        "id": "2470cdcc-5181-43e1-b132-c01911c59c4b"
      },
      "source": []
    },
    {
      "cell_type": "markdown",
      "id": "6bebbcc2-d75f-4c7d-85cd-f668e27986e5",
      "metadata": {
        "id": "6bebbcc2-d75f-4c7d-85cd-f668e27986e5"
      },
      "source": [
        "### Exercise 3 - Iterative Omnifold\n",
        "\n",
        "Now that we have walked through a single iteration of OmniFold step-by-step, it's time to automate the full iterative unfolding procedure.\n",
        "Add all indivual steps to an iterative loop."
      ]
    },
    {
      "cell_type": "code",
      "execution_count": null,
      "id": "ae521dd9-8dd5-4fdb-9f5e-de83202bd1ce",
      "metadata": {
        "id": "ae521dd9-8dd5-4fdb-9f5e-de83202bd1ce"
      },
      "outputs": [],
      "source": [
        "iterations = 3\n",
        "\n",
        "nu_part_train = torch.ones((reco_sim_train.size(0)), dtype=torch.float, device=device )\n",
        "nu_part_test = torch.ones((reco_sim_test.size(0)), dtype=torch.float, device=device )\n",
        "for i in range(iterations):\n"
      ]
    },
    {
      "cell_type": "code",
      "execution_count": null,
      "id": "YYKbxkCbXg1B",
      "metadata": {
        "id": "YYKbxkCbXg1B"
      },
      "outputs": [],
      "source": []
    }
  ],
  "metadata": {
    "colab": {
      "provenance": [],
      "gpuType": "T4",
      "include_colab_link": true
    },
    "kernelspec": {
      "display_name": "Python 3",
      "name": "python3"
    },
    "language_info": {
      "codemirror_mode": {
        "name": "ipython",
        "version": 3
      },
      "file_extension": ".py",
      "mimetype": "text/x-python",
      "name": "python",
      "nbconvert_exporter": "python",
      "pygments_lexer": "ipython3",
      "version": "3.13.2"
    },
    "accelerator": "GPU"
  },
  "nbformat": 4,
  "nbformat_minor": 5
}